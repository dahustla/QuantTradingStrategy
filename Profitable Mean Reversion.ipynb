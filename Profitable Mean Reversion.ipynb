{
 "cells": [
  {
   "cell_type": "code",
   "execution_count": 1,
   "metadata": {
    "collapsed": false
   },
   "outputs": [
    {
     "name": "stdout",
     "output_type": "stream",
     "text": [
      "Populating the interactive namespace from numpy and matplotlib\n"
     ]
    }
   ],
   "source": [
    "%matplotlib inline\n",
    "%pylab inline"
   ]
  },
  {
   "cell_type": "code",
   "execution_count": 2,
   "metadata": {
    "collapsed": true
   },
   "outputs": [],
   "source": [
    "import numpy as np\n",
    "import pandas as pd\n",
    "import datetime as dt\n",
    "import matplotlib.pyplot as plt"
   ]
  },
  {
   "cell_type": "code",
   "execution_count": 3,
   "metadata": {
    "collapsed": true
   },
   "outputs": [],
   "source": [
    "def max_drawdown(X):\n",
    "    mdd = 0\n",
    "    peak = X[0]\n",
    "    for x in X:\n",
    "        if x > peak: \n",
    "            peak = x\n",
    "        dd = (peak - x) / peak\n",
    "        if dd > mdd:\n",
    "            mdd = dd\n",
    "    return mdd"
   ]
  },
  {
   "cell_type": "code",
   "execution_count": 4,
   "metadata": {
    "collapsed": false
   },
   "outputs": [
    {
     "name": "stdout",
     "output_type": "stream",
     "text": [
      "C:\\Users\\dsi\\Documents\\Python Scripts\\data\n"
     ]
    }
   ],
   "source": [
    "cd 'C:\\Users\\dsi\\Documents\\Python Scripts\\data'"
   ]
  },
  {
   "cell_type": "code",
   "execution_count": 5,
   "metadata": {
    "collapsed": true
   },
   "outputs": [],
   "source": [
    "Open = pd.DataFrame.from_csv('Open.csv')\n",
    "Close = pd.DataFrame.from_csv('Close.csv')\n",
    "MktCap = pd.DataFrame.from_csv('MktCap(OpenClose).csv')"
   ]
  },
  {
   "cell_type": "code",
   "execution_count": 6,
   "metadata": {
    "collapsed": false
   },
   "outputs": [],
   "source": [
    "d = dt.datetime(2006,1,1)\n",
    "Open = Open[Open.index> d]\n",
    "Close = Close[Close.index> d]\n",
    "MktCap = MktCap[MktCap.index> d]"
   ]
  },
  {
   "cell_type": "code",
   "execution_count": 7,
   "metadata": {
    "collapsed": true
   },
   "outputs": [],
   "source": [
    "minCap = 2000\n",
    "Open = Open[MktCap>=minCap]\n",
    "Close = Close[MktCap>=minCap]"
   ]
  },
  {
   "cell_type": "code",
   "execution_count": 8,
   "metadata": {
    "collapsed": true
   },
   "outputs": [],
   "source": [
    "dates = Open.index\n",
    "Open.index= list(range(len(Open.index)))\n",
    "Close.index= list(range(len(Close.index)))\n",
    "MktCap.index= list(range(len(MktCap.index)))"
   ]
  },
  {
   "cell_type": "code",
   "execution_count": 20,
   "metadata": {
    "collapsed": false,
    "scrolled": true
   },
   "outputs": [],
   "source": [
    "# Holding until next Open\n",
    "\n",
    "PctChg = Close/Open - 1\n",
    "x = Open.copy()\n",
    "x.index= list(range(-1,len(x.index)-1))\n",
    "ReturnL = x/Close - 1\n",
    "ReturnL = ReturnL[1:]\n",
    "ReturnL.index = list(range(len(ReturnL.index)))"
   ]
  },
  {
   "cell_type": "code",
   "execution_count": 16,
   "metadata": {
    "collapsed": false,
    "scrolled": true
   },
   "outputs": [],
   "source": [
    "# Holding until next Close\n",
    "\n",
    "PctChg = Close/Open - 1\n",
    "x = Close.copy()\n",
    "x.index= list(range(-1,len(x.index)-1))\n",
    "ReturnL = x/Close - 1\n",
    "ReturnL = ReturnL[1:]\n",
    "ReturnL.index = list(range(len(ReturnL.index)))"
   ]
  },
  {
   "cell_type": "code",
   "execution_count": null,
   "metadata": {
    "collapsed": true
   },
   "outputs": [],
   "source": [
    "# Shorting until next Open\n",
    "\n",
    "PctChg = Close/Open - 1\n",
    "x = Open.copy()\n",
    "x.index= list(range(-1,len(x.index)-1))\n",
    "ReturnS = Close/x - 1\n",
    "ReturnS = ReturnS[1:]\n",
    "ReturnS.index = list(range(len(ReturnS.index)))"
   ]
  },
  {
   "cell_type": "code",
   "execution_count": 21,
   "metadata": {
    "collapsed": false,
    "scrolled": false
   },
   "outputs": [],
   "source": [
    "StartDate = 0\n",
    "N,M =PctChg.shape\n",
    "length = np.zeros([N,1])\n",
    "sharpeList = []\n",
    "profit = []\n",
    "ranges = []\n",
    "for i in range(10):\n",
    "    val = np.zeros([N,1])\n",
    "    for x in range(StartDate,len(PctChg.index)-1):\n",
    "            rtn = np.array(PctChg.iloc[x])\n",
    "            rtn = rtn[~isnan(rtn)]\n",
    "            length[x] = len(rtn)\n",
    "            if len(rtn)>100:\n",
    "                rtn.sort()\n",
    "                thresL = np.percentile(rtn,i)\n",
    "                thresU = np.percentile(rtn,(i+1))\n",
    "                stock = array((PctChg.iloc[x][(PctChg.iloc[x] <= thresU) & (PctChg.iloc[x] >= thresL)]).index)\n",
    "                returnlist = ReturnL.loc[x,stock]\n",
    "                returnlist = returnlist[~isnan(returnlist)]\n",
    "                val[x] = returnlist.mean()\n",
    "    val = val[~isnan(val)]\n",
    "    sharpe = sqrt(255) * val.mean() / val.std() \n",
    "    sharpeList.append(sharpe)\n",
    "    profit.append(mean(val))\n",
    "    ranges.append([i,i+1])"
   ]
  },
  {
   "cell_type": "code",
   "execution_count": null,
   "metadata": {
    "collapsed": false
   },
   "outputs": [],
   "source": [
    "StartDate = 0\n",
    "N,M =PctChg.shape\n",
    "val2 = np.zeros([N,1])\n",
    "# length = np.zeros([N,1])\n",
    "\n",
    "for x in range(StartDate,len(PctChg.index)-1):\n",
    "        rtn = np.array(PctChg.iloc[x])\n",
    "        rtn = rtn[~isnan(rtn)]\n",
    "        length[x] = len(rtn)\n",
    "        if len(rtn)>350:\n",
    "            rtn.sort()\n",
    "            thres = np.percentile(rtn,0.5)\n",
    "            stock = array((PctChg.iloc[x][PctChg.iloc[x] <= thres]).index)\n",
    "            returnlist = ReturnL.loc[x,stock]\n",
    "            returnlist = returnlist[~isnan(returnlist)]\n",
    "            val2[x] = returnlist.mean()"
   ]
  },
  {
   "cell_type": "code",
   "execution_count": 22,
   "metadata": {
    "collapsed": false
   },
   "outputs": [
    {
     "data": {
      "text/html": [
       "<div>\n",
       "<table border=\"1\" class=\"dataframe\">\n",
       "  <thead>\n",
       "    <tr style=\"text-align: right;\">\n",
       "      <th></th>\n",
       "      <th>Range</th>\n",
       "      <th>Sharpe</th>\n",
       "      <th>BP profit</th>\n",
       "    </tr>\n",
       "  </thead>\n",
       "  <tbody>\n",
       "    <tr>\n",
       "      <th>0</th>\n",
       "      <td>[0, 1]</td>\n",
       "      <td>1.856245</td>\n",
       "      <td>0.001600</td>\n",
       "    </tr>\n",
       "    <tr>\n",
       "      <th>1</th>\n",
       "      <td>[1, 2]</td>\n",
       "      <td>1.370354</td>\n",
       "      <td>0.000977</td>\n",
       "    </tr>\n",
       "    <tr>\n",
       "      <th>2</th>\n",
       "      <td>[2, 3]</td>\n",
       "      <td>1.176151</td>\n",
       "      <td>0.000750</td>\n",
       "    </tr>\n",
       "    <tr>\n",
       "      <th>3</th>\n",
       "      <td>[3, 4]</td>\n",
       "      <td>1.217787</td>\n",
       "      <td>0.000770</td>\n",
       "    </tr>\n",
       "    <tr>\n",
       "      <th>4</th>\n",
       "      <td>[4, 5]</td>\n",
       "      <td>0.872950</td>\n",
       "      <td>0.000530</td>\n",
       "    </tr>\n",
       "    <tr>\n",
       "      <th>5</th>\n",
       "      <td>[5, 6]</td>\n",
       "      <td>1.048525</td>\n",
       "      <td>0.000628</td>\n",
       "    </tr>\n",
       "    <tr>\n",
       "      <th>6</th>\n",
       "      <td>[6, 7]</td>\n",
       "      <td>1.100521</td>\n",
       "      <td>0.000642</td>\n",
       "    </tr>\n",
       "    <tr>\n",
       "      <th>7</th>\n",
       "      <td>[7, 8]</td>\n",
       "      <td>0.990444</td>\n",
       "      <td>0.000548</td>\n",
       "    </tr>\n",
       "    <tr>\n",
       "      <th>8</th>\n",
       "      <td>[8, 9]</td>\n",
       "      <td>0.870879</td>\n",
       "      <td>0.000479</td>\n",
       "    </tr>\n",
       "    <tr>\n",
       "      <th>9</th>\n",
       "      <td>[9, 10]</td>\n",
       "      <td>0.805199</td>\n",
       "      <td>0.000441</td>\n",
       "    </tr>\n",
       "  </tbody>\n",
       "</table>\n",
       "</div>"
      ],
      "text/plain": [
       "     Range    Sharpe  BP profit\n",
       "0   [0, 1]  1.856245   0.001600\n",
       "1   [1, 2]  1.370354   0.000977\n",
       "2   [2, 3]  1.176151   0.000750\n",
       "3   [3, 4]  1.217787   0.000770\n",
       "4   [4, 5]  0.872950   0.000530\n",
       "5   [5, 6]  1.048525   0.000628\n",
       "6   [6, 7]  1.100521   0.000642\n",
       "7   [7, 8]  0.990444   0.000548\n",
       "8   [8, 9]  0.870879   0.000479\n",
       "9  [9, 10]  0.805199   0.000441"
      ]
     },
     "execution_count": 22,
     "metadata": {},
     "output_type": "execute_result"
    }
   ],
   "source": [
    "d= {'Range': ranges, 'Sharpe': sharpeList, 'BP profit':profit}\n",
    "a = pd.DataFrame(data = d)\n",
    "a = a[['Range','Sharpe','BP profit']]\n",
    "a"
   ]
  },
  {
   "cell_type": "code",
   "execution_count": null,
   "metadata": {
    "collapsed": false,
    "scrolled": true
   },
   "outputs": [],
   "source": [
    "results = pd.DataFrame(data = val, index = dates)\n",
    "results.columns = [['daily rtn long']]\n",
    "# results['daily rtn short'] = val2\n",
    "# results['len'] = length\n",
    "# val2 = val2[~isnan(val2)]\n",
    "# sharpe = sqrt(250)*val2.mean() / val2.std() "
   ]
  },
  {
   "cell_type": "code",
   "execution_count": 19,
   "metadata": {
    "collapsed": false
   },
   "outputs": [],
   "source": [
    "a.to_csv('results2.csv')"
   ]
  },
  {
   "cell_type": "code",
   "execution_count": null,
   "metadata": {
    "collapsed": false,
    "scrolled": true
   },
   "outputs": [],
   "source": [
    "val2.mean()"
   ]
  },
  {
   "cell_type": "code",
   "execution_count": null,
   "metadata": {
    "collapsed": false
   },
   "outputs": [],
   "source": [
    "mean(val)"
   ]
  },
  {
   "cell_type": "code",
   "execution_count": null,
   "metadata": {
    "collapsed": false
   },
   "outputs": [],
   "source": [
    "results.to_csv('val2.csv')"
   ]
  },
  {
   "cell_type": "code",
   "execution_count": null,
   "metadata": {
    "collapsed": false
   },
   "outputs": [],
   "source": [
    "max_drawdown(results['daily rtn'])"
   ]
  },
  {
   "cell_type": "code",
   "execution_count": 24,
   "metadata": {
    "collapsed": false
   },
   "outputs": [
    {
     "data": {
      "text/plain": [
       "[<matplotlib.lines.Line2D at 0x274ce240>]"
      ]
     },
     "execution_count": 24,
     "metadata": {},
     "output_type": "execute_result"
    },
    {
     "data": {
      "image/png": "[encoded data removed]",
      "text/plain": [
       "<matplotlib.figure.Figure at 0x2863af60>"
      ]
     },
     "metadata": {},
     "output_type": "display_data"
    }
   ],
   "source": [
    "plot(length)"
   ]
  },
  {
   "cell_type": "code",
   "execution_count": null,
   "metadata": {
    "collapsed": false
   },
   "outputs": [],
   "source": [
    "plot(results['daily rtn'])"
   ]
  },
  {
   "cell_type": "code",
   "execution_count": null,
   "metadata": {
    "collapsed": false
   },
   "outputs": [],
   "source": [
    "x= 635\n",
    "rtn = np.array(PctChg.iloc[x])\n",
    "rtn = rtn[~isnan(rtn)]\n",
    "thres = np.percentile(rtn,10)\n",
    "threshold[x] = thres\n",
    "stocklist = np.array((PctChg.iloc[x][PctChg.iloc[x] < thres]).index)\n",
    "-Close.loc[x,stocklist].sum() + Open.loc[x+1,stocklist].sum()"
   ]
  },
  {
   "cell_type": "code",
   "execution_count": null,
   "metadata": {
    "collapsed": false
   },
   "outputs": [],
   "source": [
    "len(stocklist)"
   ]
  },
  {
   "cell_type": "code",
   "execution_count": null,
   "metadata": {
    "collapsed": false
   },
   "outputs": [],
   "source": [
    "a = Open.loc[x+1,stocklist]\n",
    "a = a[~isnan(a)]\n",
    "len(a)\n",
    "a.sum()"
   ]
  },
  {
   "cell_type": "code",
   "execution_count": null,
   "metadata": {
    "collapsed": false
   },
   "outputs": [],
   "source": [
    "d= {'Sharpe': sharpeList, 'BP profit':profit}\n",
    "a = pd.DataFrame(data = d)\n",
    "a = a[['Sharpe','BP profit']]\n",
    "a['Sharpe'] = nan\n",
    "c = a['Sharpe'] / a['BP profit'] - 1\n",
    "c"
   ]
  },
  {
   "cell_type": "code",
   "execution_count": null,
   "metadata": {
    "collapsed": false
   },
   "outputs": [],
   "source": [
    "x"
   ]
  },
  {
   "cell_type": "code",
   "execution_count": null,
   "metadata": {
    "collapsed": false
   },
   "outputs": [],
   "source": [
    "val"
   ]
  },
  {
   "cell_type": "code",
   "execution_count": null,
   "metadata": {
    "collapsed": true
   },
   "outputs": [],
   "source": []
  }
 ],
 "metadata": {
  "kernelspec": {
   "display_name": "Python 3",
   "language": "python",
   "name": "python3"
  },
  "language_info": {
   "codemirror_mode": {
    "name": "ipython",
    "version": 3
   },
   "file_extension": ".py",
   "mimetype": "text/x-python",
   "name": "python",
   "nbconvert_exporter": "python",
   "pygments_lexer": "ipython3",
   "version": "3.4.3"
  }
 },
 "nbformat": 4,
 "nbformat_minor": 0
}
